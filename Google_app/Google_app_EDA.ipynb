{
 "cells": [
  {
   "cell_type": "markdown",
   "metadata": {},
   "source": [
    "`Hasnain Zaman`\n"
   ]
  },
  {
   "cell_type": "markdown",
   "metadata": {},
   "source": [
    "# **Google playstore Data**\n",
    "**Complete Exploratory Data Analysis**"
   ]
  },
  {
   "cell_type": "markdown",
   "metadata": {},
   "source": [
    "## About Dataset\n",
    "\n",
    ">- **`Description`**\\\n",
    "> The Data Set was downloaded from Kaggle, from the following [link](https://www.kaggle.com/datasets/lava18/google-play-store-apps/)\n",
    "\n",
    "- `Context`\n",
    "While many public datasets (on Kaggle and the like) provide Apple App Store data, there are not many counterpart datasets available for Google Play Store apps anywhere on the web. On digging deeper, I found out that iTunes App Store page deploys a nicely indexed appendix-like structure to allow for simple and easy web scraping. On the other hand, Google Play Store uses sophisticated modern-day techniques (like dynamic page load) using JQuery making scraping more challenging.\n",
    "\n",
    "- `Content`\n",
    "Each app (row) has values for catergory, rating, size, and more.\n",
    "\n",
    "- `Acknowledgements`\n",
    "This information is scraped from the Google Play Store. This app information would not be available without it.\n",
    "\n",
    "- `Inspiration`\n",
    "The Play Store apps data has enormous potential to drive app-making businesses to success. Actionable insights can be drawn for developers to work on and capture the Android market!"
   ]
  },
  {
   "cell_type": "markdown",
   "metadata": {},
   "source": [
    "## Questions\n",
    "1. Which category has the highest number of reviews?\n",
    "2. Which category has the highest number of installs?\n",
    "3. Which category has the highest number of apps?\n",
    "4. Which category has the highest rating?\n",
    "5. How many apps are there in the dataset?\n",
    "6. What are the unique categories of apps available?\n",
    "7. What is the average rating of apps?\n",
    "8. What is the most reviewed app in the dataset?\n",
    "9. What is the average size of an app in MB?\n",
    "10. How many apps are free and how many are paid?\n",
    "11. What are the unique content ratings?\n",
    "12. What are the top 5 genres by number of apps?\n",
    "13. What is the most recent update date?\n",
    "14. What is the distribution of apps across different Android versions?\n",
    "15. What is the average number of installs by category?\n",
    "16. What is the average price of paid apps?\n",
    "17. What is the most common current version?\n",
    "18. What is the distribution of app sizes across different content ratings?\n",
    "19. What is the ratio of free to paid apps by category?\n",
    "20. What is the average rating of apps in each content rating category?"
   ]
  },
  {
   "cell_type": "markdown",
   "metadata": {},
   "source": [
    "## Import Libraries"
   ]
  },
  {
   "cell_type": "code",
   "execution_count": 1,
   "metadata": {},
   "outputs": [],
   "source": [
    "import pandas as pd \n",
    "import numpy as np \n",
    "import seaborn as sns\n",
    "import matplotlib.pyplot as plt\n",
    "import warnings\n",
    "warnings.filterwarnings(\"ignore\")"
   ]
  },
  {
   "cell_type": "code",
   "execution_count": 2,
   "metadata": {},
   "outputs": [],
   "source": [
    "#load the data \n",
    "df = pd.read_csv(\"googleplaystore.csv\")"
   ]
  },
  {
   "cell_type": "markdown",
   "metadata": {},
   "source": [
    "## Preprosessing"
   ]
  },
  {
   "cell_type": "code",
   "execution_count": 3,
   "metadata": {},
   "outputs": [
    {
     "data": {
      "text/html": [
       "<div>\n",
       "<style scoped>\n",
       "    .dataframe tbody tr th:only-of-type {\n",
       "        vertical-align: middle;\n",
       "    }\n",
       "\n",
       "    .dataframe tbody tr th {\n",
       "        vertical-align: top;\n",
       "    }\n",
       "\n",
       "    .dataframe thead th {\n",
       "        text-align: right;\n",
       "    }\n",
       "</style>\n",
       "<table border=\"1\" class=\"dataframe\">\n",
       "  <thead>\n",
       "    <tr style=\"text-align: right;\">\n",
       "      <th></th>\n",
       "      <th>App</th>\n",
       "      <th>Category</th>\n",
       "      <th>Rating</th>\n",
       "      <th>Reviews</th>\n",
       "      <th>Size</th>\n",
       "      <th>Installs</th>\n",
       "      <th>Type</th>\n",
       "      <th>Price</th>\n",
       "      <th>Content Rating</th>\n",
       "      <th>Genres</th>\n",
       "      <th>Last Updated</th>\n",
       "      <th>Current Ver</th>\n",
       "      <th>Android Ver</th>\n",
       "    </tr>\n",
       "  </thead>\n",
       "  <tbody>\n",
       "    <tr>\n",
       "      <th>0</th>\n",
       "      <td>Photo Editor &amp; Candy Camera &amp; Grid &amp; ScrapBook</td>\n",
       "      <td>ART_AND_DESIGN</td>\n",
       "      <td>4.1</td>\n",
       "      <td>159</td>\n",
       "      <td>19M</td>\n",
       "      <td>10,000+</td>\n",
       "      <td>Free</td>\n",
       "      <td>0</td>\n",
       "      <td>Everyone</td>\n",
       "      <td>Art &amp; Design</td>\n",
       "      <td>January 7, 2018</td>\n",
       "      <td>1.0.0</td>\n",
       "      <td>4.0.3 and up</td>\n",
       "    </tr>\n",
       "    <tr>\n",
       "      <th>1</th>\n",
       "      <td>Coloring book moana</td>\n",
       "      <td>ART_AND_DESIGN</td>\n",
       "      <td>3.9</td>\n",
       "      <td>967</td>\n",
       "      <td>14M</td>\n",
       "      <td>500,000+</td>\n",
       "      <td>Free</td>\n",
       "      <td>0</td>\n",
       "      <td>Everyone</td>\n",
       "      <td>Art &amp; Design;Pretend Play</td>\n",
       "      <td>January 15, 2018</td>\n",
       "      <td>2.0.0</td>\n",
       "      <td>4.0.3 and up</td>\n",
       "    </tr>\n",
       "    <tr>\n",
       "      <th>2</th>\n",
       "      <td>U Launcher Lite – FREE Live Cool Themes, Hide ...</td>\n",
       "      <td>ART_AND_DESIGN</td>\n",
       "      <td>4.7</td>\n",
       "      <td>87510</td>\n",
       "      <td>8.7M</td>\n",
       "      <td>5,000,000+</td>\n",
       "      <td>Free</td>\n",
       "      <td>0</td>\n",
       "      <td>Everyone</td>\n",
       "      <td>Art &amp; Design</td>\n",
       "      <td>August 1, 2018</td>\n",
       "      <td>1.2.4</td>\n",
       "      <td>4.0.3 and up</td>\n",
       "    </tr>\n",
       "    <tr>\n",
       "      <th>3</th>\n",
       "      <td>Sketch - Draw &amp; Paint</td>\n",
       "      <td>ART_AND_DESIGN</td>\n",
       "      <td>4.5</td>\n",
       "      <td>215644</td>\n",
       "      <td>25M</td>\n",
       "      <td>50,000,000+</td>\n",
       "      <td>Free</td>\n",
       "      <td>0</td>\n",
       "      <td>Teen</td>\n",
       "      <td>Art &amp; Design</td>\n",
       "      <td>June 8, 2018</td>\n",
       "      <td>Varies with device</td>\n",
       "      <td>4.2 and up</td>\n",
       "    </tr>\n",
       "    <tr>\n",
       "      <th>4</th>\n",
       "      <td>Pixel Draw - Number Art Coloring Book</td>\n",
       "      <td>ART_AND_DESIGN</td>\n",
       "      <td>4.3</td>\n",
       "      <td>967</td>\n",
       "      <td>2.8M</td>\n",
       "      <td>100,000+</td>\n",
       "      <td>Free</td>\n",
       "      <td>0</td>\n",
       "      <td>Everyone</td>\n",
       "      <td>Art &amp; Design;Creativity</td>\n",
       "      <td>June 20, 2018</td>\n",
       "      <td>1.1</td>\n",
       "      <td>4.4 and up</td>\n",
       "    </tr>\n",
       "  </tbody>\n",
       "</table>\n",
       "</div>"
      ],
      "text/plain": [
       "                                                 App        Category  Rating  \\\n",
       "0     Photo Editor & Candy Camera & Grid & ScrapBook  ART_AND_DESIGN     4.1   \n",
       "1                                Coloring book moana  ART_AND_DESIGN     3.9   \n",
       "2  U Launcher Lite – FREE Live Cool Themes, Hide ...  ART_AND_DESIGN     4.7   \n",
       "3                              Sketch - Draw & Paint  ART_AND_DESIGN     4.5   \n",
       "4              Pixel Draw - Number Art Coloring Book  ART_AND_DESIGN     4.3   \n",
       "\n",
       "   Reviews  Size     Installs  Type Price Content Rating  \\\n",
       "0      159   19M      10,000+  Free     0       Everyone   \n",
       "1      967   14M     500,000+  Free     0       Everyone   \n",
       "2    87510  8.7M   5,000,000+  Free     0       Everyone   \n",
       "3   215644   25M  50,000,000+  Free     0           Teen   \n",
       "4      967  2.8M     100,000+  Free     0       Everyone   \n",
       "\n",
       "                      Genres      Last Updated         Current Ver  \\\n",
       "0               Art & Design   January 7, 2018               1.0.0   \n",
       "1  Art & Design;Pretend Play  January 15, 2018               2.0.0   \n",
       "2               Art & Design    August 1, 2018               1.2.4   \n",
       "3               Art & Design      June 8, 2018  Varies with device   \n",
       "4    Art & Design;Creativity     June 20, 2018                 1.1   \n",
       "\n",
       "    Android Ver  \n",
       "0  4.0.3 and up  \n",
       "1  4.0.3 and up  \n",
       "2  4.0.3 and up  \n",
       "3    4.2 and up  \n",
       "4    4.4 and up  "
      ]
     },
     "execution_count": 3,
     "metadata": {},
     "output_type": "execute_result"
    }
   ],
   "source": [
    "df.head()"
   ]
  },
  {
   "cell_type": "code",
   "execution_count": 4,
   "metadata": {},
   "outputs": [
    {
     "data": {
      "text/html": [
       "<div>\n",
       "<style scoped>\n",
       "    .dataframe tbody tr th:only-of-type {\n",
       "        vertical-align: middle;\n",
       "    }\n",
       "\n",
       "    .dataframe tbody tr th {\n",
       "        vertical-align: top;\n",
       "    }\n",
       "\n",
       "    .dataframe thead th {\n",
       "        text-align: right;\n",
       "    }\n",
       "</style>\n",
       "<table border=\"1\" class=\"dataframe\">\n",
       "  <thead>\n",
       "    <tr style=\"text-align: right;\">\n",
       "      <th></th>\n",
       "      <th>App</th>\n",
       "      <th>Category</th>\n",
       "      <th>Rating</th>\n",
       "      <th>Reviews</th>\n",
       "      <th>Size</th>\n",
       "      <th>Installs</th>\n",
       "      <th>Type</th>\n",
       "      <th>Price</th>\n",
       "      <th>Content Rating</th>\n",
       "      <th>Genres</th>\n",
       "      <th>Last Updated</th>\n",
       "      <th>Current Ver</th>\n",
       "      <th>Android Ver</th>\n",
       "    </tr>\n",
       "  </thead>\n",
       "  <tbody>\n",
       "    <tr>\n",
       "      <th>10836</th>\n",
       "      <td>Sya9a Maroc - FR</td>\n",
       "      <td>FAMILY</td>\n",
       "      <td>4.5</td>\n",
       "      <td>38</td>\n",
       "      <td>53M</td>\n",
       "      <td>5,000+</td>\n",
       "      <td>Free</td>\n",
       "      <td>0</td>\n",
       "      <td>Everyone</td>\n",
       "      <td>Education</td>\n",
       "      <td>July 25, 2017</td>\n",
       "      <td>1.48</td>\n",
       "      <td>4.1 and up</td>\n",
       "    </tr>\n",
       "    <tr>\n",
       "      <th>10837</th>\n",
       "      <td>Fr. Mike Schmitz Audio Teachings</td>\n",
       "      <td>FAMILY</td>\n",
       "      <td>5.0</td>\n",
       "      <td>4</td>\n",
       "      <td>3.6M</td>\n",
       "      <td>100+</td>\n",
       "      <td>Free</td>\n",
       "      <td>0</td>\n",
       "      <td>Everyone</td>\n",
       "      <td>Education</td>\n",
       "      <td>July 6, 2018</td>\n",
       "      <td>1.0</td>\n",
       "      <td>4.1 and up</td>\n",
       "    </tr>\n",
       "    <tr>\n",
       "      <th>10838</th>\n",
       "      <td>Parkinson Exercices FR</td>\n",
       "      <td>MEDICAL</td>\n",
       "      <td>NaN</td>\n",
       "      <td>3</td>\n",
       "      <td>9.5M</td>\n",
       "      <td>1,000+</td>\n",
       "      <td>Free</td>\n",
       "      <td>0</td>\n",
       "      <td>Everyone</td>\n",
       "      <td>Medical</td>\n",
       "      <td>January 20, 2017</td>\n",
       "      <td>1.0</td>\n",
       "      <td>2.2 and up</td>\n",
       "    </tr>\n",
       "    <tr>\n",
       "      <th>10839</th>\n",
       "      <td>The SCP Foundation DB fr nn5n</td>\n",
       "      <td>BOOKS_AND_REFERENCE</td>\n",
       "      <td>4.5</td>\n",
       "      <td>114</td>\n",
       "      <td>Varies with device</td>\n",
       "      <td>1,000+</td>\n",
       "      <td>Free</td>\n",
       "      <td>0</td>\n",
       "      <td>Mature 17+</td>\n",
       "      <td>Books &amp; Reference</td>\n",
       "      <td>January 19, 2015</td>\n",
       "      <td>Varies with device</td>\n",
       "      <td>Varies with device</td>\n",
       "    </tr>\n",
       "    <tr>\n",
       "      <th>10840</th>\n",
       "      <td>iHoroscope - 2018 Daily Horoscope &amp; Astrology</td>\n",
       "      <td>LIFESTYLE</td>\n",
       "      <td>4.5</td>\n",
       "      <td>398307</td>\n",
       "      <td>19M</td>\n",
       "      <td>10,000,000+</td>\n",
       "      <td>Free</td>\n",
       "      <td>0</td>\n",
       "      <td>Everyone</td>\n",
       "      <td>Lifestyle</td>\n",
       "      <td>July 25, 2018</td>\n",
       "      <td>Varies with device</td>\n",
       "      <td>Varies with device</td>\n",
       "    </tr>\n",
       "  </tbody>\n",
       "</table>\n",
       "</div>"
      ],
      "text/plain": [
       "                                                 App             Category  \\\n",
       "10836                               Sya9a Maroc - FR               FAMILY   \n",
       "10837               Fr. Mike Schmitz Audio Teachings               FAMILY   \n",
       "10838                         Parkinson Exercices FR              MEDICAL   \n",
       "10839                  The SCP Foundation DB fr nn5n  BOOKS_AND_REFERENCE   \n",
       "10840  iHoroscope - 2018 Daily Horoscope & Astrology            LIFESTYLE   \n",
       "\n",
       "       Rating  Reviews                Size     Installs  Type Price  \\\n",
       "10836     4.5       38                 53M       5,000+  Free     0   \n",
       "10837     5.0        4                3.6M         100+  Free     0   \n",
       "10838     NaN        3                9.5M       1,000+  Free     0   \n",
       "10839     4.5      114  Varies with device       1,000+  Free     0   \n",
       "10840     4.5   398307                 19M  10,000,000+  Free     0   \n",
       "\n",
       "      Content Rating             Genres      Last Updated         Current Ver  \\\n",
       "10836       Everyone          Education     July 25, 2017                1.48   \n",
       "10837       Everyone          Education      July 6, 2018                 1.0   \n",
       "10838       Everyone            Medical  January 20, 2017                 1.0   \n",
       "10839     Mature 17+  Books & Reference  January 19, 2015  Varies with device   \n",
       "10840       Everyone          Lifestyle     July 25, 2018  Varies with device   \n",
       "\n",
       "              Android Ver  \n",
       "10836          4.1 and up  \n",
       "10837          4.1 and up  \n",
       "10838          2.2 and up  \n",
       "10839  Varies with device  \n",
       "10840  Varies with device  "
      ]
     },
     "execution_count": 4,
     "metadata": {},
     "output_type": "execute_result"
    }
   ],
   "source": [
    "df.tail()"
   ]
  },
  {
   "cell_type": "code",
   "execution_count": 20,
   "metadata": {},
   "outputs": [
    {
     "data": {
      "text/plain": [
       "App                  0\n",
       "Category             1\n",
       "Rating            1474\n",
       "Reviews              0\n",
       "Size_in_bytes     1695\n",
       "Installs             0\n",
       "Type                 1\n",
       "Price                0\n",
       "Content Rating       0\n",
       "Genres               1\n",
       "Last Updated         0\n",
       "Current Ver          8\n",
       "Android Ver          2\n",
       "Size_in_Mb        1695\n",
       "dtype: int64"
      ]
     },
     "execution_count": 20,
     "metadata": {},
     "output_type": "execute_result"
    }
   ],
   "source": [
    "df.isnull().sum()"
   ]
  },
  {
   "cell_type": "code",
   "execution_count": 6,
   "metadata": {},
   "outputs": [
    {
     "name": "stdout",
     "output_type": "stream",
     "text": [
      "The dataset has 10841 rows and 13 columns.\n"
     ]
    }
   ],
   "source": [
    "df.shape\n",
    "print(f\"The dataset has {df.shape[0]} rows and {df.shape[1]} columns.\")"
   ]
  },
  {
   "cell_type": "code",
   "execution_count": 45,
   "metadata": {},
   "outputs": [
    {
     "data": {
      "text/plain": [
       "Index(['App', 'Category', 'Rating', 'Reviews', 'Size_in_bytes', 'Installs',\n",
       "       'Type', 'Price', 'Content Rating', 'Genres', 'Last Updated',\n",
       "       'Current Ver', 'Android Ver', 'Size_in_Mb', 'Installs_category'],\n",
       "      dtype='object')"
      ]
     },
     "execution_count": 45,
     "metadata": {},
     "output_type": "execute_result"
    }
   ],
   "source": [
    "df.columns"
   ]
  },
  {
   "cell_type": "code",
   "execution_count": 7,
   "metadata": {},
   "outputs": [
    {
     "name": "stdout",
     "output_type": "stream",
     "text": [
      "<class 'pandas.core.frame.DataFrame'>\n",
      "RangeIndex: 10841 entries, 0 to 10840\n",
      "Data columns (total 13 columns):\n",
      " #   Column          Non-Null Count  Dtype  \n",
      "---  ------          --------------  -----  \n",
      " 0   App             10841 non-null  object \n",
      " 1   Category        10840 non-null  object \n",
      " 2   Rating          9367 non-null   float64\n",
      " 3   Reviews         10841 non-null  int64  \n",
      " 4   Size            10841 non-null  object \n",
      " 5   Installs        10841 non-null  object \n",
      " 6   Type            10840 non-null  object \n",
      " 7   Price           10841 non-null  object \n",
      " 8   Content Rating  10841 non-null  object \n",
      " 9   Genres          10840 non-null  object \n",
      " 10  Last Updated    10841 non-null  object \n",
      " 11  Current Ver     10833 non-null  object \n",
      " 12  Android Ver     10839 non-null  object \n",
      "dtypes: float64(1), int64(1), object(11)\n",
      "memory usage: 1.1+ MB\n"
     ]
    }
   ],
   "source": [
    "df.info()"
   ]
  },
  {
   "cell_type": "markdown",
   "metadata": {},
   "source": [
    "> There are some columns which are of object data type but they should be of numeric data type, we will convert them.\n",
    "   - `'Size', 'Installs', 'Price'`"
   ]
  },
  {
   "cell_type": "markdown",
   "metadata": {},
   "source": [
    "### `Size`"
   ]
  },
  {
   "cell_type": "code",
   "execution_count": 8,
   "metadata": {},
   "outputs": [
    {
     "data": {
      "text/plain": [
       "array(['19M', '14M', '8.7M', '25M', '2.8M', '5.6M', '29M', '33M', '3.1M',\n",
       "       '28M', '12M', '20M', '21M', '37M', '2.7M', '5.5M', '17M', '39M',\n",
       "       '31M', '4.2M', '7.0M', '23M', '6.0M', '6.1M', '4.6M', '9.2M',\n",
       "       '5.2M', '11M', '24M', 'Varies with device', '9.4M', '15M', '10M',\n",
       "       '1.2M', '26M', '8.0M', '7.9M', '56M', '57M', '35M', '54M', '201k',\n",
       "       '3.6M', '5.7M', '8.6M', '2.4M', '27M', '2.5M', '16M', '3.4M',\n",
       "       '8.9M', '3.9M', '2.9M', '38M', '32M', '5.4M', '18M', '1.1M',\n",
       "       '2.2M', '4.5M', '9.8M', '52M', '9.0M', '6.7M', '30M', '2.6M',\n",
       "       '7.1M', '3.7M', '22M', '7.4M', '6.4M', '3.2M', '8.2M', '9.9M',\n",
       "       '4.9M', '9.5M', '5.0M', '5.9M', '13M', '73M', '6.8M', '3.5M',\n",
       "       '4.0M', '2.3M', '7.2M', '2.1M', '42M', '7.3M', '9.1M', '55M',\n",
       "       '23k', '6.5M', '1.5M', '7.5M', '51M', '41M', '48M', '8.5M', '46M',\n",
       "       '8.3M', '4.3M', '4.7M', '3.3M', '40M', '7.8M', '8.8M', '6.6M',\n",
       "       '5.1M', '61M', '66M', '79k', '8.4M', '118k', '44M', '695k', '1.6M',\n",
       "       '6.2M', '18k', '53M', '1.4M', '3.0M', '5.8M', '3.8M', '9.6M',\n",
       "       '45M', '63M', '49M', '77M', '4.4M', '4.8M', '70M', '6.9M', '9.3M',\n",
       "       '10.0M', '8.1M', '36M', '84M', '97M', '2.0M', '1.9M', '1.8M',\n",
       "       '5.3M', '47M', '556k', '526k', '76M', '7.6M', '59M', '9.7M', '78M',\n",
       "       '72M', '43M', '7.7M', '6.3M', '334k', '34M', '93M', '65M', '79M',\n",
       "       '100M', '58M', '50M', '68M', '64M', '67M', '60M', '94M', '232k',\n",
       "       '99M', '624k', '95M', '8.5k', '41k', '292k', '11k', '80M', '1.7M',\n",
       "       '74M', '62M', '69M', '75M', '98M', '85M', '82M', '96M', '87M',\n",
       "       '71M', '86M', '91M', '81M', '92M', '83M', '88M', '704k', '862k',\n",
       "       '899k', '378k', '266k', '375k', '1.3M', '975k', '980k', '4.1M',\n",
       "       '89M', '696k', '544k', '525k', '920k', '779k', '853k', '720k',\n",
       "       '713k', '772k', '318k', '58k', '241k', '196k', '857k', '51k',\n",
       "       '953k', '865k', '251k', '930k', '540k', '313k', '746k', '203k',\n",
       "       '26k', '314k', '239k', '371k', '220k', '730k', '756k', '91k',\n",
       "       '293k', '17k', '74k', '14k', '317k', '78k', '924k', '902k', '818k',\n",
       "       '81k', '939k', '169k', '45k', '475k', '965k', '90M', '545k', '61k',\n",
       "       '283k', '655k', '714k', '93k', '872k', '121k', '322k', '1.0M',\n",
       "       '976k', '172k', '238k', '549k', '206k', '954k', '444k', '717k',\n",
       "       '210k', '609k', '308k', '705k', '306k', '904k', '473k', '175k',\n",
       "       '350k', '383k', '454k', '421k', '70k', '812k', '442k', '842k',\n",
       "       '417k', '412k', '459k', '478k', '335k', '782k', '721k', '430k',\n",
       "       '429k', '192k', '200k', '460k', '728k', '496k', '816k', '414k',\n",
       "       '506k', '887k', '613k', '243k', '569k', '778k', '683k', '592k',\n",
       "       '319k', '186k', '840k', '647k', '191k', '373k', '437k', '598k',\n",
       "       '716k', '585k', '982k', '222k', '219k', '55k', '948k', '323k',\n",
       "       '691k', '511k', '951k', '963k', '25k', '554k', '351k', '27k',\n",
       "       '82k', '208k', '913k', '514k', '551k', '29k', '103k', '898k',\n",
       "       '743k', '116k', '153k', '209k', '353k', '499k', '173k', '597k',\n",
       "       '809k', '122k', '411k', '400k', '801k', '787k', '237k', '50k',\n",
       "       '643k', '986k', '97k', '516k', '837k', '780k', '961k', '269k',\n",
       "       '20k', '498k', '600k', '749k', '642k', '881k', '72k', '656k',\n",
       "       '601k', '221k', '228k', '108k', '940k', '176k', '33k', '663k',\n",
       "       '34k', '942k', '259k', '164k', '458k', '245k', '629k', '28k',\n",
       "       '288k', '775k', '785k', '636k', '916k', '994k', '309k', '485k',\n",
       "       '914k', '903k', '608k', '500k', '54k', '562k', '847k', '957k',\n",
       "       '688k', '811k', '270k', '48k', '329k', '523k', '921k', '874k',\n",
       "       '981k', '784k', '280k', '24k', '518k', '754k', '892k', '154k',\n",
       "       '860k', '364k', '387k', '626k', '161k', '879k', '39k', '970k',\n",
       "       '170k', '141k', '160k', '144k', '143k', '190k', '376k', '193k',\n",
       "       '246k', '73k', '658k', '992k', '253k', '420k', '404k', '470k',\n",
       "       '226k', '240k', '89k', '234k', '257k', '861k', '467k', '157k',\n",
       "       '44k', '676k', '67k', '552k', '885k', '1020k', '582k', '619k'],\n",
       "      dtype=object)"
      ]
     },
     "execution_count": 8,
     "metadata": {},
     "output_type": "execute_result"
    }
   ],
   "source": [
    "df['Size'].unique()"
   ]
  },
  {
   "cell_type": "markdown",
   "metadata": {},
   "source": [
    "-  There are several uniques values in the `Size` column, we have to first make the unit into one common unit from M and K to bytes, and then remove the `M` and `K` from the values and convert them into numeric data type."
   ]
  },
  {
   "cell_type": "code",
   "execution_count": 9,
   "metadata": {},
   "outputs": [],
   "source": [
    "# find the values in size column which has 'M' in it\n",
    "m=df['Size'].loc[df['Size'].str.contains('M')].value_counts().sum()\n",
    "# find the values in size column which has 'k' in it\n",
    "k=df['Size'].loc[df['Size'].str.contains('k')].value_counts().sum()\n",
    "# find the values in size column which has 'Varies with device' in it\n",
    "vwd=df['Size'].loc[df['Size'].str.contains('Varies with device')].value_counts().sum()"
   ]
  },
  {
   "cell_type": "code",
   "execution_count": 11,
   "metadata": {},
   "outputs": [
    {
     "name": "stdout",
     "output_type": "stream",
     "text": [
      "We have 8830 values in size column which has 'M' in it\n",
      "We have 316 values in size column which has 'k' in it\n",
      "We have 1695 values in size column which has 'Varies with device' in it\n"
     ]
    }
   ],
   "source": [
    "print(f\"We have {m} values in size column which has 'M' in it\")\n",
    "print(f\"We have {k} values in size column which has 'k' in it\")\n",
    "print(f\"We have {vwd} values in size column which has 'Varies with device' in it\")"
   ]
  },
  {
   "cell_type": "markdown",
   "metadata": {},
   "source": [
    "- We have `8830` values in `M` units\n",
    "- We have `316` values in `k` units\n",
    "- We have `1695` value in `Varies with device` \n",
    "\n",
    "> Let's convert the `M` and `K` units into bytes and then remove the `M` and `K` from the values and convert them into numeric data type."
   ]
  },
  {
   "cell_type": "code",
   "execution_count": 12,
   "metadata": {},
   "outputs": [],
   "source": [
    "# convert the size column to numeric by multiplying the values with 1024 if it has 'k' in it and 1024*1024 if it has 'M' in it\n",
    "# this function will convert the size column to numeric\n",
    "def convert_size(size):\n",
    "    # add function details here\n",
    "    '''\n",
    "    This function will convert the size column to numeric by multiplying the values with 1024 if it has 'k' in it and 1024*1024 if it has 'M' in it\n",
    "    '''\n",
    "    \n",
    "    if isinstance(size, str):\n",
    "        if 'k' in size:\n",
    "            return float(size.replace('k', '')) * 1024\n",
    "        elif 'M' in size:\n",
    "            return float(size.replace('M', '')) * 1024 * 1024\n",
    "        elif 'Varies with device' in size:\n",
    "            return np.nan\n",
    "    return size\n",
    "\n",
    "df['Size'] = df['Size'].apply(convert_size)"
   ]
  },
  {
   "cell_type": "code",
   "execution_count": 13,
   "metadata": {},
   "outputs": [],
   "source": [
    "# rename the column name 'Size' to 'Size_in_bytes'\n",
    "df.rename(columns={'Size': 'Size_in_bytes'}, inplace=True)"
   ]
  },
  {
   "cell_type": "code",
   "execution_count": 14,
   "metadata": {},
   "outputs": [],
   "source": [
    "# making a new column called 'Size in Mb' which will have the size in MB\n",
    "df['Size_in_Mb'] = df['Size_in_bytes'].apply(lambda x: x/(1024*1024))"
   ]
  },
  {
   "cell_type": "markdown",
   "metadata": {},
   "source": [
    "- Now we have converted every value into bytes and removed the `M` and `K` from the values and converted them into numeric data type.\n",
    "- 'Varies with device' was a string value, therefore we intentionally converted them into null values, which we can fill later on according to our needs.\n"
   ]
  },
  {
   "cell_type": "markdown",
   "metadata": {},
   "source": [
    "### `Installs`"
   ]
  },
  {
   "cell_type": "code",
   "execution_count": 15,
   "metadata": {},
   "outputs": [
    {
     "data": {
      "text/plain": [
       "array(['10,000+', '500,000+', '5,000,000+', '50,000,000+', '100,000+',\n",
       "       '50,000+', '1,000,000+', '10,000,000+', '5,000+', '100,000,000+',\n",
       "       '1,000,000,000+', '1,000+', '500,000,000+', '50+', '100+', '500+',\n",
       "       '10+', '1+', '5+', '0+', '0'], dtype=object)"
      ]
     },
     "execution_count": 15,
     "metadata": {},
     "output_type": "execute_result"
    }
   ],
   "source": [
    "# check the unique values in install column\n",
    "df['Installs'].unique()"
   ]
  },
  {
   "cell_type": "code",
   "execution_count": 16,
   "metadata": {},
   "outputs": [
    {
     "data": {
      "text/plain": [
       "Installs\n",
       "1,000,000+        1579\n",
       "10,000,000+       1252\n",
       "100,000+          1169\n",
       "10,000+           1054\n",
       "1,000+             908\n",
       "5,000,000+         752\n",
       "100+               719\n",
       "500,000+           539\n",
       "50,000+            479\n",
       "5,000+             477\n",
       "100,000,000+       409\n",
       "10+                386\n",
       "500+               330\n",
       "50,000,000+        289\n",
       "50+                205\n",
       "5+                  82\n",
       "500,000,000+        72\n",
       "1+                  67\n",
       "1,000,000,000+      58\n",
       "0+                  14\n",
       "0                    1\n",
       "Name: count, dtype: int64"
      ]
     },
     "execution_count": 16,
     "metadata": {},
     "output_type": "execute_result"
    }
   ],
   "source": [
    "# let's have a values counts\n",
    "df['Installs'].value_counts()"
   ]
  },
  {
   "cell_type": "markdown",
   "metadata": {},
   "source": [
    "- The only problem I see here is the `+` sign in the values, let's remove them and convert the column into numeric data type.\n",
    "- - The total values in the `Installs` column are `10841` and there are no null values in the column.\n",
    "- However, one value 0 has no plus sign\n",
    "\n",
    "- Let's remove the plus sign `+` and `,` from the values and convert them into numeric data type"
   ]
  },
  {
   "cell_type": "code",
   "execution_count": 17,
   "metadata": {},
   "outputs": [],
   "source": [
    "# remove the plus sign from install column and convert it to numeric\n",
    "df['Installs'] = df['Installs'].apply(lambda x: x.replace('+', '') if '+' in str(x) else x)\n",
    "# also remove the commas from the install column\n",
    "df['Installs'] = df['Installs'].apply(lambda x: x.replace(',', '') if ',' in str(x) else x)\n",
    "# convert the install column to numeric (integers because this is the number of installs/count)\n",
    "df['Installs'] = df['Installs'].apply(lambda x: int(x))"
   ]
  },
  {
   "cell_type": "code",
   "execution_count": 18,
   "metadata": {},
   "outputs": [
    {
     "name": "stdout",
     "output_type": "stream",
     "text": [
      "<class 'pandas.core.frame.DataFrame'>\n",
      "RangeIndex: 10841 entries, 0 to 10840\n",
      "Data columns (total 14 columns):\n",
      " #   Column          Non-Null Count  Dtype  \n",
      "---  ------          --------------  -----  \n",
      " 0   App             10841 non-null  object \n",
      " 1   Category        10840 non-null  object \n",
      " 2   Rating          9367 non-null   float64\n",
      " 3   Reviews         10841 non-null  int64  \n",
      " 4   Size_in_bytes   9146 non-null   float64\n",
      " 5   Installs        10841 non-null  int64  \n",
      " 6   Type            10840 non-null  object \n",
      " 7   Price           10841 non-null  object \n",
      " 8   Content Rating  10841 non-null  object \n",
      " 9   Genres          10840 non-null  object \n",
      " 10  Last Updated    10841 non-null  object \n",
      " 11  Current Ver     10833 non-null  object \n",
      " 12  Android Ver     10839 non-null  object \n",
      " 13  Size_in_Mb      9146 non-null   float64\n",
      "dtypes: float64(3), int64(2), object(9)\n",
      "memory usage: 1.2+ MB\n"
     ]
    }
   ],
   "source": [
    "df.info()"
   ]
  },
  {
   "cell_type": "code",
   "execution_count": 21,
   "metadata": {},
   "outputs": [],
   "source": [
    "# making a new column called 'Installs_category' which will have the category of the installs\n",
    "bins = [-1, 0, 10, 1000, 10000, 100000, 1000000, 10000000, 10000000000]\n",
    "labels=['no', 'Very low', 'Low', 'Moderate', 'More than moderate', 'High', 'Very High', 'Top Notch']\n",
    "df['Installs_category'] = pd.cut(df['Installs'], bins=bins, labels=labels)"
   ]
  },
  {
   "cell_type": "code",
   "execution_count": 22,
   "metadata": {},
   "outputs": [
    {
     "data": {
      "text/plain": [
       "Installs_category\n",
       "Low                   2162\n",
       "High                  2118\n",
       "Very High             2004\n",
       "More than moderate    1648\n",
       "Moderate              1531\n",
       "Top Notch              828\n",
       "Very low               535\n",
       "no                      15\n",
       "Name: count, dtype: int64"
      ]
     },
     "execution_count": 22,
     "metadata": {},
     "output_type": "execute_result"
    }
   ],
   "source": [
    "df['Installs_category'].value_counts()"
   ]
  },
  {
   "cell_type": "markdown",
   "metadata": {},
   "source": [
    "### `price`"
   ]
  },
  {
   "cell_type": "code",
   "execution_count": 23,
   "metadata": {},
   "outputs": [
    {
     "data": {
      "text/plain": [
       "800"
      ]
     },
     "execution_count": 23,
     "metadata": {},
     "output_type": "execute_result"
    }
   ],
   "source": [
    "# count the values having $ in the 'Price' column\n",
    "df['Price'].loc[df['Price'].str.contains('\\$')].value_counts().sum()"
   ]
  },
  {
   "cell_type": "code",
   "execution_count": 24,
   "metadata": {},
   "outputs": [
    {
     "data": {
      "text/plain": [
       "10041"
      ]
     },
     "execution_count": 24,
     "metadata": {},
     "output_type": "execute_result"
    }
   ],
   "source": [
    "# This code counts the number of values in the 'Price' column which contains 0 but does not contain $ sign\n",
    "df['Price'].loc[(df['Price'].str.contains('0')) & (~df['Price'].str.contains('\\$'))].value_counts().sum()"
   ]
  },
  {
   "cell_type": "markdown",
   "metadata": {},
   "source": [
    "- Now we can confirm that the only currency used is `$` in the `Price` column or 0 value, as `800+10041=10841 Total values`\n",
    "- The only problem is $ sign let's remove it and convert the column into numeric data type."
   ]
  },
  {
   "cell_type": "code",
   "execution_count": 25,
   "metadata": {},
   "outputs": [],
   "source": [
    "# remove the dollar sign from the price column and convert it to numeric\n",
    "df['Price'] = df['Price'].apply(lambda x: x.replace('$', '') if '$' in str(x) else x)\n",
    "# convert the price column to numeric (float because this is the price)\n",
    "df['Price'] = df['Price'].apply(lambda x: float(x))"
   ]
  },
  {
   "cell_type": "code",
   "execution_count": 26,
   "metadata": {},
   "outputs": [
    {
     "name": "stdout",
     "output_type": "stream",
     "text": [
      "Min price is: 0.0 $\n",
      "Max price is: 400.0 $\n",
      "Average price is: 1.0272733142699015 $\n"
     ]
    }
   ],
   "source": [
    "# using f string to print the min, max and average price of the apps\n",
    "print(f\"Min price is: {df['Price'].min()} $\")\n",
    "print(f\"Max price is: {df['Price'].max()} $\")\n",
    "print(f\"Average price is: {df['Price'].mean()} $\")"
   ]
  },
  {
   "cell_type": "markdown",
   "metadata": {},
   "source": [
    "## Descriptive Statistics"
   ]
  },
  {
   "cell_type": "code",
   "execution_count": 27,
   "metadata": {},
   "outputs": [
    {
     "data": {
      "text/html": [
       "<div>\n",
       "<style scoped>\n",
       "    .dataframe tbody tr th:only-of-type {\n",
       "        vertical-align: middle;\n",
       "    }\n",
       "\n",
       "    .dataframe tbody tr th {\n",
       "        vertical-align: top;\n",
       "    }\n",
       "\n",
       "    .dataframe thead th {\n",
       "        text-align: right;\n",
       "    }\n",
       "</style>\n",
       "<table border=\"1\" class=\"dataframe\">\n",
       "  <thead>\n",
       "    <tr style=\"text-align: right;\">\n",
       "      <th></th>\n",
       "      <th>Rating</th>\n",
       "      <th>Reviews</th>\n",
       "      <th>Size_in_bytes</th>\n",
       "      <th>Installs</th>\n",
       "      <th>Price</th>\n",
       "      <th>Size_in_Mb</th>\n",
       "    </tr>\n",
       "  </thead>\n",
       "  <tbody>\n",
       "    <tr>\n",
       "      <th>count</th>\n",
       "      <td>9367.000000</td>\n",
       "      <td>1.084100e+04</td>\n",
       "      <td>9.146000e+03</td>\n",
       "      <td>1.084100e+04</td>\n",
       "      <td>10841.000000</td>\n",
       "      <td>9146.000000</td>\n",
       "    </tr>\n",
       "    <tr>\n",
       "      <th>mean</th>\n",
       "      <td>4.191513</td>\n",
       "      <td>4.441119e+05</td>\n",
       "      <td>2.255921e+07</td>\n",
       "      <td>1.546291e+07</td>\n",
       "      <td>1.027273</td>\n",
       "      <td>21.514141</td>\n",
       "    </tr>\n",
       "    <tr>\n",
       "      <th>std</th>\n",
       "      <td>0.515735</td>\n",
       "      <td>2.927629e+06</td>\n",
       "      <td>2.368595e+07</td>\n",
       "      <td>8.502557e+07</td>\n",
       "      <td>15.948971</td>\n",
       "      <td>22.588679</td>\n",
       "    </tr>\n",
       "    <tr>\n",
       "      <th>min</th>\n",
       "      <td>1.000000</td>\n",
       "      <td>0.000000e+00</td>\n",
       "      <td>8.704000e+03</td>\n",
       "      <td>0.000000e+00</td>\n",
       "      <td>0.000000</td>\n",
       "      <td>0.008301</td>\n",
       "    </tr>\n",
       "    <tr>\n",
       "      <th>25%</th>\n",
       "      <td>4.000000</td>\n",
       "      <td>3.800000e+01</td>\n",
       "      <td>5.138022e+06</td>\n",
       "      <td>1.000000e+03</td>\n",
       "      <td>0.000000</td>\n",
       "      <td>4.900000</td>\n",
       "    </tr>\n",
       "    <tr>\n",
       "      <th>50%</th>\n",
       "      <td>4.300000</td>\n",
       "      <td>2.094000e+03</td>\n",
       "      <td>1.363149e+07</td>\n",
       "      <td>1.000000e+05</td>\n",
       "      <td>0.000000</td>\n",
       "      <td>13.000000</td>\n",
       "    </tr>\n",
       "    <tr>\n",
       "      <th>75%</th>\n",
       "      <td>4.500000</td>\n",
       "      <td>5.476800e+04</td>\n",
       "      <td>3.145728e+07</td>\n",
       "      <td>5.000000e+06</td>\n",
       "      <td>0.000000</td>\n",
       "      <td>30.000000</td>\n",
       "    </tr>\n",
       "    <tr>\n",
       "      <th>max</th>\n",
       "      <td>5.000000</td>\n",
       "      <td>7.815831e+07</td>\n",
       "      <td>1.048576e+08</td>\n",
       "      <td>1.000000e+09</td>\n",
       "      <td>400.000000</td>\n",
       "      <td>100.000000</td>\n",
       "    </tr>\n",
       "  </tbody>\n",
       "</table>\n",
       "</div>"
      ],
      "text/plain": [
       "            Rating       Reviews  Size_in_bytes      Installs         Price  \\\n",
       "count  9367.000000  1.084100e+04   9.146000e+03  1.084100e+04  10841.000000   \n",
       "mean      4.191513  4.441119e+05   2.255921e+07  1.546291e+07      1.027273   \n",
       "std       0.515735  2.927629e+06   2.368595e+07  8.502557e+07     15.948971   \n",
       "min       1.000000  0.000000e+00   8.704000e+03  0.000000e+00      0.000000   \n",
       "25%       4.000000  3.800000e+01   5.138022e+06  1.000000e+03      0.000000   \n",
       "50%       4.300000  2.094000e+03   1.363149e+07  1.000000e+05      0.000000   \n",
       "75%       4.500000  5.476800e+04   3.145728e+07  5.000000e+06      0.000000   \n",
       "max       5.000000  7.815831e+07   1.048576e+08  1.000000e+09    400.000000   \n",
       "\n",
       "        Size_in_Mb  \n",
       "count  9146.000000  \n",
       "mean     21.514141  \n",
       "std      22.588679  \n",
       "min       0.008301  \n",
       "25%       4.900000  \n",
       "50%      13.000000  \n",
       "75%      30.000000  \n",
       "max     100.000000  "
      ]
     },
     "execution_count": 27,
     "metadata": {},
     "output_type": "execute_result"
    }
   ],
   "source": [
    "df.describe()"
   ]
  },
  {
   "cell_type": "code",
   "execution_count": 28,
   "metadata": {},
   "outputs": [
    {
     "data": {
      "text/plain": [
       "App                     0\n",
       "Category                1\n",
       "Rating               1474\n",
       "Reviews                 0\n",
       "Size_in_bytes        1695\n",
       "Installs                0\n",
       "Type                    1\n",
       "Price                   0\n",
       "Content Rating          0\n",
       "Genres                  1\n",
       "Last Updated            0\n",
       "Current Ver             8\n",
       "Android Ver             2\n",
       "Size_in_Mb           1695\n",
       "Installs_category       0\n",
       "dtype: int64"
      ]
     },
     "execution_count": 28,
     "metadata": {},
     "output_type": "execute_result"
    }
   ],
   "source": [
    "df.isnull().sum()"
   ]
  },
  {
   "cell_type": "code",
   "execution_count": 29,
   "metadata": {},
   "outputs": [
    {
     "data": {
      "text/plain": [
       "<Axes: >"
      ]
     },
     "execution_count": 29,
     "metadata": {},
     "output_type": "execute_result"
    },
    {
     "data": {
      "image/png": "[encoded data removed]",
      "text/plain": [
       "<Figure size 640x480 with 2 Axes>"
      ]
     },
     "metadata": {},
     "output_type": "display_data"
    }
   ],
   "source": [
    "sns.heatmap(df.isnull())"
   ]
  },
  {
   "cell_type": "code",
   "execution_count": 30,
   "metadata": {},
   "outputs": [],
   "source": [
    "df.dropna(inplace=True)"
   ]
  },
  {
   "cell_type": "code",
   "execution_count": 31,
   "metadata": {},
   "outputs": [
    {
     "data": {
      "text/plain": [
       "App                  0\n",
       "Category             0\n",
       "Rating               0\n",
       "Reviews              0\n",
       "Size_in_bytes        0\n",
       "Installs             0\n",
       "Type                 0\n",
       "Price                0\n",
       "Content Rating       0\n",
       "Genres               0\n",
       "Last Updated         0\n",
       "Current Ver          0\n",
       "Android Ver          0\n",
       "Size_in_Mb           0\n",
       "Installs_category    0\n",
       "dtype: int64"
      ]
     },
     "execution_count": 31,
     "metadata": {},
     "output_type": "execute_result"
    }
   ],
   "source": [
    "df.isnull().sum()"
   ]
  },
  {
   "cell_type": "code",
   "execution_count": 65,
   "metadata": {},
   "outputs": [],
   "source": [
    "# Save the cleaned data to a new CSV file\n",
    "df.to_csv('cleaned_google_playstore.csv', index=False)"
   ]
  },
  {
   "cell_type": "code",
   "execution_count": 32,
   "metadata": {},
   "outputs": [
    {
     "data": {
      "image/png": "[encoded data removed]",
      "text/plain": [
       "<Figure size 640x480 with 1 Axes>"
      ]
     },
     "metadata": {},
     "output_type": "display_data"
    },
    {
     "data": {
      "image/png": "[encoded data removed]",
      "text/plain": [
       "<Figure size 640x480 with 1 Axes>"
      ]
     },
     "metadata": {},
     "output_type": "display_data"
    },
    {
     "data": {
      "image/png": "[encoded data removed]",
      "text/plain": [
       "<Figure size 640x480 with 1 Axes>"
      ]
     },
     "metadata": {},
     "output_type": "display_data"
    },
    {
     "data": {
      "image/png": "[encoded data removed]",
      "text/plain": [
       "<Figure size 640x480 with 1 Axes>"
      ]
     },
     "metadata": {},
     "output_type": "display_data"
    },
    {
     "data": {
      "image/png": "[encoded data removed]",
      "text/plain": [
       "<Figure size 640x480 with 1 Axes>"
      ]
     },
     "metadata": {},
     "output_type": "display_data"
    },
    {
     "data": {
      "image/png": "[encoded data removed]",
      "text/plain": [
       "<Figure size 640x480 with 1 Axes>"
      ]
     },
     "metadata": {},
     "output_type": "display_data"
    }
   ],
   "source": [
    "# check the distribution of the numeric column\n",
    "\n",
    "for i in df.columns:\n",
    "    if df[i].dtype=='int64' or df[i].dtype=='float64':\n",
    "        sns.histplot(df[i])\n",
    "        plt.show()"
   ]
  },
  {
   "cell_type": "markdown",
   "metadata": {},
   "source": [
    "# **_Observations_**\n",
    "---\n",
    "1. There are 10841 rows and 13 columns in the dataset\n",
    "2. The columns are of different data types\n",
    "3. The columns in the datasets are:\n",
    "   - `'App', 'Category', 'Rating', 'Reviews', 'Size', 'Installs', 'Type',\n",
    "       'Price', 'Content Rating', 'Genres', 'Last Updated', 'Current Ver',\n",
    "       'Android Ver'`\n",
    "4. There are some missing values in the dataset which we will read in details and deal later on in the notebook.\n",
    "5. There are some columns which are of object data type but they should be of numeric data type, we will convert them .\n",
    "   - `'Size', 'Installs', 'Price'` \n",
    "6. `Dealing with the missing values`\n",
    "- We can not impute the missing values.So drop the missing Values\n",
    "---"
   ]
  },
  {
   "cell_type": "markdown",
   "metadata": {},
   "source": [
    "# **_Insights from Data_**"
   ]
  },
  {
   "cell_type": "code",
   "execution_count": 42,
   "metadata": {},
   "outputs": [
    {
     "name": "stdout",
     "output_type": "stream",
     "text": [
      "The 10 categories with the highest number of apps are:\n",
      " Category\n",
      "FAMILY             1616\n",
      "GAME                974\n",
      "TOOLS               633\n",
      "MEDICAL             324\n",
      "LIFESTYLE           280\n",
      "PERSONALIZATION     278\n",
      "FINANCE             266\n",
      "SPORTS              247\n",
      "BUSINESS            246\n",
      "PHOTOGRAPHY         236\n",
      "Name: count, dtype: int64\n"
     ]
    }
   ],
   "source": [
    "hightest_cat=df['Category'].value_counts().head(10)\n",
    "print(f\"The 10 categories with the highest number of apps are:\\n {hightest_cat}\")\n"
   ]
  },
  {
   "cell_type": "code",
   "execution_count": 43,
   "metadata": {},
   "outputs": [
    {
     "name": "stdout",
     "output_type": "stream",
     "text": [
      "The 10 categories with the highest number of installs are:\n",
      " Category\n",
      "GAME                  29874452717\n",
      "FAMILY                 6798383580\n",
      "COMMUNICATION          4941915530\n",
      "NEWS_AND_MAGAZINES     4251900550\n",
      "TOOLS                  3525553500\n",
      "PRODUCTIVITY           2742302080\n",
      "PHOTOGRAPHY            2557893130\n",
      "SHOPPING               1504231540\n",
      "SPORTS                 1138911465\n",
      "PERSONALIZATION         998131930\n",
      "Name: Installs, dtype: int64\n"
     ]
    }
   ],
   "source": [
    "# category with highest number of Installs\n",
    "highest_Installs=df.groupby('Category')['Installs'].sum().sort_values(ascending=False).head(10)\n",
    "print(f\"The 10 categories with the highest number of installs are:\\n {highest_Installs}\")"
   ]
  },
  {
   "cell_type": "code",
   "execution_count": 44,
   "metadata": {},
   "outputs": [
    {
     "name": "stdout",
     "output_type": "stream",
     "text": [
      "The 10 categories with the highest number of reviews are:\n",
      " Category\n",
      "GAME               1350232576\n",
      "FAMILY              291089515\n",
      "COMMUNICATION       117104203\n",
      "TOOLS               105276108\n",
      "PHOTOGRAPHY          76943394\n",
      "SPORTS               52571750\n",
      "SHOPPING             46977854\n",
      "PRODUCTIVITY         43585265\n",
      "PERSONALIZATION      34950466\n",
      "SOCIAL               32406616\n",
      "Name: Reviews, dtype: int64\n"
     ]
    }
   ],
   "source": [
    "# Category with highest number of Reviews\n",
    "Reviews=df.groupby('Category')['Reviews'].sum().sort_values(ascending=False).head(10)\n",
    "print(f\"The 10 categories with the highest number of reviews are:\\n {Reviews}\")"
   ]
  },
  {
   "cell_type": "code",
   "execution_count": 37,
   "metadata": {},
   "outputs": [
    {
     "data": {
      "text/plain": [
       "Category\n",
       "EVENTS                 4.478947\n",
       "EDUCATION              4.387273\n",
       "ART_AND_DESIGN         4.381034\n",
       "PARENTING              4.347727\n",
       "PERSONALIZATION        4.323381\n",
       "BOOKS_AND_REFERENCE    4.320139\n",
       "BEAUTY                 4.291892\n",
       "GAME                   4.269507\n",
       "SOCIAL                 4.257062\n",
       "WEATHER                4.241176\n",
       "Name: Rating, dtype: float64"
      ]
     },
     "execution_count": 37,
     "metadata": {},
     "output_type": "execute_result"
    }
   ],
   "source": [
    "# Category with highest average Rating\n",
    "df.groupby('Category')['Rating'].mean().sort_values(ascending=False).head(10)"
   ]
  },
  {
   "cell_type": "code",
   "execution_count": 46,
   "metadata": {},
   "outputs": [
    {
     "name": "stdout",
     "output_type": "stream",
     "text": [
      "Number of apps: 7723\n"
     ]
    }
   ],
   "source": [
    "# How many apps are there in the dataset?\n",
    "num_apps = df.shape[0]\n",
    "print(\"Number of apps:\", num_apps)\n"
   ]
  },
  {
   "cell_type": "code",
   "execution_count": 47,
   "metadata": {},
   "outputs": [
    {
     "name": "stdout",
     "output_type": "stream",
     "text": [
      "Unique categories of apps: ['ART_AND_DESIGN' 'AUTO_AND_VEHICLES' 'BEAUTY' 'BOOKS_AND_REFERENCE'\n",
      " 'BUSINESS' 'COMICS' 'COMMUNICATION' 'DATING' 'EDUCATION' 'ENTERTAINMENT'\n",
      " 'EVENTS' 'FINANCE' 'FOOD_AND_DRINK' 'HEALTH_AND_FITNESS' 'HOUSE_AND_HOME'\n",
      " 'LIBRARIES_AND_DEMO' 'LIFESTYLE' 'GAME' 'FAMILY' 'MEDICAL' 'SOCIAL'\n",
      " 'SHOPPING' 'PHOTOGRAPHY' 'SPORTS' 'TRAVEL_AND_LOCAL' 'TOOLS'\n",
      " 'PERSONALIZATION' 'PRODUCTIVITY' 'PARENTING' 'WEATHER' 'VIDEO_PLAYERS'\n",
      " 'NEWS_AND_MAGAZINES' 'MAPS_AND_NAVIGATION']\n"
     ]
    }
   ],
   "source": [
    "# What are the unique categories of apps available?\n",
    "unique_categories = df['Category'].unique()\n",
    "print(\"Unique categories of apps:\", unique_categories)\n"
   ]
  },
  {
   "cell_type": "code",
   "execution_count": 48,
   "metadata": {},
   "outputs": [
    {
     "name": "stdout",
     "output_type": "stream",
     "text": [
      "Average rating of apps: 4.173934999352584\n"
     ]
    }
   ],
   "source": [
    "# What is the average rating of apps?\n",
    "avg_rating = df['Rating'].mean()\n",
    "print(\"Average rating of apps:\", avg_rating)\n"
   ]
  },
  {
   "cell_type": "code",
   "execution_count": 49,
   "metadata": {},
   "outputs": [
    {
     "name": "stdout",
     "output_type": "stream",
     "text": [
      "Most reviewed app: Clash of Clans\n",
      "Number of reviews: 44893888\n"
     ]
    }
   ],
   "source": [
    "# What is the most reviewed app in the dataset?\n",
    "most_reviewed_app = df.loc[df['Reviews'].idxmax()]\n",
    "print(\"Most reviewed app:\", most_reviewed_app['App'])\n",
    "print(\"Number of reviews:\", most_reviewed_app['Reviews'])\n"
   ]
  },
  {
   "cell_type": "code",
   "execution_count": 50,
   "metadata": {},
   "outputs": [
    {
     "name": "stdout",
     "output_type": "stream",
     "text": [
      "Average size of apps (in MB): 22.97011975440648\n"
     ]
    }
   ],
   "source": [
    "# What is the average size of an app in MB?\n",
    "avg_size_mb = df['Size_in_Mb'].mean()\n",
    "print(\"Average size of apps (in MB):\", avg_size_mb)\n"
   ]
  },
  {
   "cell_type": "code",
   "execution_count": 51,
   "metadata": {},
   "outputs": [
    {
     "name": "stdout",
     "output_type": "stream",
     "text": [
      "Number of free apps: 7146\n",
      "Number of paid apps: 577\n"
     ]
    }
   ],
   "source": [
    "# How many apps are free and how many are paid?\n",
    "num_free_apps = df[df['Type'] == 'Free'].shape[0]\n",
    "num_paid_apps = df[df['Type'] == 'Paid'].shape[0]\n",
    "print(\"Number of free apps:\", num_free_apps)\n",
    "print(\"Number of paid apps:\", num_paid_apps)\n"
   ]
  },
  {
   "cell_type": "code",
   "execution_count": 52,
   "metadata": {},
   "outputs": [
    {
     "name": "stdout",
     "output_type": "stream",
     "text": [
      "Unique content ratings: ['Everyone' 'Teen' 'Everyone 10+' 'Mature 17+' 'Adults only 18+' 'Unrated']\n"
     ]
    }
   ],
   "source": [
    "# What are the unique content ratings?\n",
    "unique_content_ratings = df['Content Rating'].unique()\n",
    "print(\"Unique content ratings:\", unique_content_ratings)\n"
   ]
  },
  {
   "cell_type": "code",
   "execution_count": 53,
   "metadata": {},
   "outputs": [
    {
     "name": "stdout",
     "output_type": "stream",
     "text": [
      "Top 5 genres by number of apps:\n",
      "Genres\n",
      "Tools            633\n",
      "Entertainment    448\n",
      "Education        417\n",
      "Medical          324\n",
      "Action           322\n",
      "Name: count, dtype: int64\n"
     ]
    }
   ],
   "source": [
    "# What are the top 5 genres by number of apps?\n",
    "top_genres = df['Genres'].value_counts().head(5)\n",
    "print(\"Top 5 genres by number of apps:\")\n",
    "print(top_genres)\n"
   ]
  },
  {
   "cell_type": "code",
   "execution_count": 54,
   "metadata": {},
   "outputs": [
    {
     "name": "stdout",
     "output_type": "stream",
     "text": [
      "Most recent update date: September 9, 2016\n"
     ]
    }
   ],
   "source": [
    "# What is the most recent update date?\n",
    "most_recent_update = df['Last Updated'].max()\n",
    "print(\"Most recent update date:\", most_recent_update)\n"
   ]
  },
  {
   "cell_type": "code",
   "execution_count": 56,
   "metadata": {},
   "outputs": [
    {
     "name": "stdout",
     "output_type": "stream",
     "text": [
      "Distribution of apps across different Android versions:\n",
      "Android Ver\n",
      "4.1 and up      1930\n",
      "4.0.3 and up    1194\n",
      "4.0 and up      1107\n",
      "4.4 and up       806\n",
      "2.3 and up       566\n",
      "Name: count, dtype: int64\n"
     ]
    }
   ],
   "source": [
    "# What is the distribution of apps across different Android versions?\n",
    "android_version_distribution = df['Android Ver'].value_counts().head(5)\n",
    "print(\"Distribution of apps across different Android versions:\")\n",
    "print(android_version_distribution)\n"
   ]
  },
  {
   "cell_type": "code",
   "execution_count": 59,
   "metadata": {},
   "outputs": [
    {
     "name": "stdout",
     "output_type": "stream",
     "text": [
      "Average installs by category:\n",
      "Category\n",
      "ART_AND_DESIGN         1.710829e+06\n",
      "AUTO_AND_VEHICLES      6.947587e+05\n",
      "BEAUTY                 3.626000e+05\n",
      "BOOKS_AND_REFERENCE    9.707233e+05\n",
      "BUSINESS               2.178589e+06\n",
      "COMICS                 3.578796e+05\n",
      "COMMUNICATION          2.342140e+07\n",
      "DATING                 8.200295e+05\n",
      "EDUCATION              2.533655e+06\n",
      "ENTERTAINMENT          1.056622e+07\n",
      "EVENTS                 2.802211e+05\n",
      "FAMILY                 4.206921e+06\n",
      "FINANCE                1.191306e+06\n",
      "FOOD_AND_DRINK         2.113902e+06\n",
      "GAME                   3.067192e+07\n",
      "HEALTH_AND_FITNESS     3.894198e+06\n",
      "HOUSE_AND_HOME         1.338964e+06\n",
      "LIBRARIES_AND_DEMO     9.833279e+05\n",
      "LIFESTYLE              1.563354e+06\n",
      "MAPS_AND_NAVIGATION    1.842269e+06\n",
      "MEDICAL                1.434971e+05\n",
      "NEWS_AND_MAGAZINES     2.515917e+07\n",
      "PARENTING              5.355911e+05\n",
      "PERSONALIZATION        3.590403e+06\n",
      "PHOTOGRAPHY            1.083853e+07\n",
      "PRODUCTIVITY           1.166937e+07\n",
      "SHOPPING               8.403528e+06\n",
      "SOCIAL                 5.227347e+06\n",
      "SPORTS                 4.610978e+06\n",
      "TOOLS                  5.569595e+06\n",
      "TRAVEL_AND_LOCAL       2.228989e+06\n",
      "VIDEO_PLAYERS          7.687605e+06\n",
      "WEATHER                2.731304e+06\n",
      "Name: Installs, dtype: float64\n"
     ]
    }
   ],
   "source": [
    "# What is the average number of installs by category?\n",
    "avg_installs_by_category = df.groupby('Category')['Installs'].mean()\n",
    "print(\"Average installs by category:\")\n",
    "print(avg_installs_by_category)\n"
   ]
  },
  {
   "cell_type": "code",
   "execution_count": 60,
   "metadata": {},
   "outputs": [
    {
     "name": "stdout",
     "output_type": "stream",
     "text": [
      "Average price of paid apps: 15.100259965337955\n"
     ]
    }
   ],
   "source": [
    "# What is the average price of paid apps?\n",
    "avg_price_paid_apps = df[df['Type'] == 'Paid']['Price'].mean()\n",
    "print(\"Average price of paid apps:\", avg_price_paid_apps)\n"
   ]
  },
  {
   "cell_type": "code",
   "execution_count": 61,
   "metadata": {},
   "outputs": [
    {
     "name": "stdout",
     "output_type": "stream",
     "text": [
      "Most common current version: 1.0\n"
     ]
    }
   ],
   "source": [
    "# What is the most common current version?\n",
    "most_common_version = df['Current Ver'].mode()[0]\n",
    "print(\"Most common current version:\", most_common_version)\n"
   ]
  },
  {
   "cell_type": "code",
   "execution_count": 62,
   "metadata": {},
   "outputs": [
    {
     "name": "stdout",
     "output_type": "stream",
     "text": [
      "Distribution of app sizes across different content ratings:\n",
      "                  count       mean        std       min     25%    50%  \\\n",
      "Content Rating                                                           \n",
      "Adults only 18+     2.0  22.950000  25.526555  4.900000  13.925  22.95   \n",
      "Everyone         6166.0  20.397063  21.709392  0.008301   4.500  12.00   \n",
      "Everyone 10+      318.0  40.733419  27.292742  0.027344  20.000  34.00   \n",
      "Mature 17+        368.0  27.021736  24.539998  0.298828   8.575  19.00   \n",
      "Teen              868.0  33.041953  27.327187  0.315430  11.000  25.00   \n",
      "Unrated             1.0   6.400000        NaN  6.400000   6.400   6.40   \n",
      "\n",
      "                    75%    max  \n",
      "Content Rating                  \n",
      "Adults only 18+  31.975   41.0  \n",
      "Everyone         28.000  100.0  \n",
      "Everyone 10+     64.000  100.0  \n",
      "Mature 17+       39.000  100.0  \n",
      "Teen             50.000  100.0  \n",
      "Unrated           6.400    6.4  \n"
     ]
    }
   ],
   "source": [
    "# What is the distribution of app sizes across different content ratings?\n",
    "size_distribution_by_rating = df.groupby('Content Rating')['Size_in_Mb'].describe()\n",
    "print(\"Distribution of app sizes across different content ratings:\")\n",
    "print(size_distribution_by_rating)\n"
   ]
  },
  {
   "cell_type": "code",
   "execution_count": 63,
   "metadata": {},
   "outputs": [
    {
     "name": "stdout",
     "output_type": "stream",
     "text": [
      "Ratio of free to paid apps by category:\n",
      "Type                     Free      Paid\n",
      "Category                               \n",
      "ART_AND_DESIGN       0.948276  0.051724\n",
      "AUTO_AND_VEHICLES    1.000000  0.000000\n",
      "BEAUTY               1.000000  0.000000\n",
      "BOOKS_AND_REFERENCE  0.951389  0.048611\n",
      "BUSINESS             0.959350  0.040650\n",
      "COMICS               1.000000  0.000000\n",
      "COMMUNICATION        0.914692  0.085308\n",
      "DATING               0.988439  0.011561\n",
      "EDUCATION            0.963636  0.036364\n",
      "ENTERTAINMENT        0.988889  0.011111\n",
      "EVENTS               1.000000  0.000000\n",
      "FAMILY               0.907178  0.092822\n",
      "FINANCE              0.951128  0.048872\n",
      "FOOD_AND_DRINK       0.988095  0.011905\n",
      "GAME                 0.922998  0.077002\n",
      "HEALTH_AND_FITNESS   0.964126  0.035874\n",
      "HOUSE_AND_HOME       1.000000  0.000000\n",
      "LIBRARIES_AND_DEMO   1.000000  0.000000\n",
      "LIFESTYLE            0.942857  0.057143\n",
      "MAPS_AND_NAVIGATION  0.957895  0.042105\n",
      "MEDICAL              0.759259  0.240741\n",
      "NEWS_AND_MAGAZINES   0.988166  0.011834\n",
      "PARENTING            0.977273  0.022727\n",
      "PERSONALIZATION      0.773381  0.226619\n",
      "PHOTOGRAPHY          0.936441  0.063559\n",
      "PRODUCTIVITY         0.940426  0.059574\n",
      "SHOPPING             0.988827  0.011173\n",
      "SOCIAL               0.988701  0.011299\n",
      "SPORTS               0.919028  0.080972\n",
      "TOOLS                0.913112  0.086888\n",
      "TRAVEL_AND_LOCAL     0.962500  0.037500\n",
      "VIDEO_PLAYERS        0.991379  0.008621\n",
      "WEATHER              0.882353  0.117647\n"
     ]
    }
   ],
   "source": [
    "# What is the ratio of free to paid apps by category?\n",
    "ratio_free_to_paid_by_category = df.groupby('Category')['Type'].value_counts(normalize=True).unstack().fillna(0)\n",
    "print(\"Ratio of free to paid apps by category:\")\n",
    "print(ratio_free_to_paid_by_category)\n"
   ]
  },
  {
   "cell_type": "code",
   "execution_count": 64,
   "metadata": {},
   "outputs": [
    {
     "name": "stdout",
     "output_type": "stream",
     "text": [
      "Average rating of apps by content rating category:\n",
      "Content Rating\n",
      "Adults only 18+    4.550000\n",
      "Everyone           4.166542\n",
      "Everyone 10+       4.261006\n",
      "Mature 17+         4.095380\n",
      "Teen               4.227074\n",
      "Unrated            4.100000\n",
      "Name: Rating, dtype: float64\n"
     ]
    }
   ],
   "source": [
    "# What is the average rating of apps by content rating category?\n",
    "avg_rating_by_content_rating = df.groupby('Content Rating')['Rating'].mean()\n",
    "print(\"Average rating of apps by content rating category:\")\n",
    "print(avg_rating_by_content_rating)\n"
   ]
  },
  {
   "cell_type": "code",
   "execution_count": null,
   "metadata": {},
   "outputs": [],
   "source": []
  }
 ],
 "metadata": {
  "kernelspec": {
   "display_name": "python_edaa",
   "language": "python",
   "name": "python3"
  },
  "language_info": {
   "codemirror_mode": {
    "name": "ipython",
    "version": 3
   },
   "file_extension": ".py",
   "mimetype": "text/x-python",
   "name": "python",
   "nbconvert_exporter": "python",
   "pygments_lexer": "ipython3",
   "version": "3.11.8"
  }
 },
 "nbformat": 4,
 "nbformat_minor": 2
}
